{
  "nbformat": 4,
  "nbformat_minor": 0,
  "metadata": {
    "colab": {
      "name": "ImageColorProcessingPillow.ipynb",
      "provenance": [],
      "authorship_tag": "ABX9TyOKVI2sxNQUoQC2s5Ajmcnh",
      "include_colab_link": true
    },
    "kernelspec": {
      "name": "python3",
      "display_name": "Python 3"
    },
    "language_info": {
      "name": "python"
    }
  },
  "cells": [
    {
      "cell_type": "markdown",
      "metadata": {
        "id": "view-in-github",
        "colab_type": "text"
      },
      "source": [
        "<a href=\"https://colab.research.google.com/github/maryamshahani/ImageColorProcessingPillow/blob/main/ImageColorProcessingPillow.ipynb\" target=\"_parent\"><img src=\"https://colab.research.google.com/assets/colab-badge.svg\" alt=\"Open In Colab\"/></a>"
      ]
    },
    {
      "cell_type": "markdown",
      "source": [
        ""
      ],
      "metadata": {
        "id": "3b6k4OiQgrQB"
      }
    },
    {
      "cell_type": "code",
      "execution_count": 117,
      "metadata": {
        "colab": {
          "base_uri": "https://localhost:8080/"
        },
        "id": "exDCjWovfTB4",
        "outputId": "40c45522-3eaf-4a5c-807d-c20e718d372b"
      },
      "outputs": [
        {
          "output_type": "stream",
          "name": "stdout",
          "text": [
            "Drive already mounted at /content/drive; to attempt to forcibly remount, call drive.mount(\"/content/drive\", force_remount=True).\n"
          ]
        }
      ],
      "source": [
        "#connect to google drive and mount drive\n",
        "from google.colab import drive\n",
        "drive.mount('/content/drive')"
      ]
    },
    {
      "cell_type": "code",
      "source": [
        "#images file path:\n",
        "image_o = '/content/drive/MyDrive/GoogleColabFiles/o.png'\n",
        "image_x = '/content/drive/MyDrive/GoogleColabFiles/x.png'"
      ],
      "metadata": {
        "id": "5Ds8OgVogvEY"
      },
      "execution_count": 118,
      "outputs": []
    },
    {
      "cell_type": "code",
      "source": [
        "from PIL import Image, ImageChops, ImageFilter\n",
        "\n",
        "#Create a PIL Image objects\n",
        "x = Image.open(image_x)\n",
        "o = Image.open(image_o)\n",
        "\n",
        "x"
      ],
      "metadata": {
        "colab": {
          "base_uri": "https://localhost:8080/",
          "height": 273
        },
        "id": "DJdqNP4FiNiX",
        "outputId": "943f55e3-56a9-4a72-d60a-53e6282efc6d"
      },
      "execution_count": 119,
      "outputs": [
        {
          "output_type": "execute_result",
          "data": {
            "image/png": "[encoded data removed]",
            "text/plain": [
              "<PIL.PngImagePlugin.PngImageFile image mode=RGB size=256x256 at 0x7F7F80E29910>"
            ]
          },
          "metadata": {},
          "execution_count": 119
        }
      ]
    },
    {
      "cell_type": "code",
      "source": [
        "#Find out attributes of Image Objects\n",
        "print('size of the image o :', o.size, 'color mode of the image o:', o.mode)\n",
        "print('size of the image x :', x.size, 'color mode of the image x:', x.mode)"
      ],
      "metadata": {
        "colab": {
          "base_uri": "https://localhost:8080/"
        },
        "id": "B61xnpVCiO7B",
        "outputId": "3ee8c5db-aa2c-46c1-bb86-98340f7c57b3"
      },
      "execution_count": 120,
      "outputs": [
        {
          "output_type": "stream",
          "name": "stdout",
          "text": [
            "size of the image o : (256, 256) color mode of the image o: RGB\n",
            "size of the image x : (256, 256) color mode of the image x: RGB\n"
          ]
        }
      ]
    },
    {
      "cell_type": "code",
      "source": [
        "from matplotlib import pyplot as plt\n",
        "\n",
        "#plot 2 images one besides the other\n",
        "plt.subplot(121), plt.imshow(x)\n",
        "plt.axis('off')\n",
        "plt.subplot(122), plt.imshow(o)\n",
        "plt.axis('off')"
      ],
      "metadata": {
        "colab": {
          "base_uri": "https://localhost:8080/",
          "height": 200
        },
        "id": "WkQxfp7jj6eB",
        "outputId": "6e56eb6d-01bc-436d-93b0-85d16c82b6ca"
      },
      "execution_count": 121,
      "outputs": [
        {
          "output_type": "execute_result",
          "data": {
            "text/plain": [
              "(-0.5, 255.5, 255.5, -0.5)"
            ]
          },
          "metadata": {},
          "execution_count": 121
        },
        {
          "output_type": "display_data",
          "data": {
            "image/png": "[encoded data removed]",
            "text/plain": [
              "<Figure size 432x288 with 2 Axes>"
            ]
          },
          "metadata": {
            "needs_background": "light"
          }
        }
      ]
    },
    {
      "cell_type": "code",
      "source": [
        "#multiply images\n",
        "merged = ImageChops.multiply(x,o)\n",
        "\n",
        "merged"
      ],
      "metadata": {
        "colab": {
          "base_uri": "https://localhost:8080/",
          "height": 273
        },
        "id": "IYL5tGkmlbPk",
        "outputId": "dfc5cf50-cc56-4fc8-973f-337baf23ca1d"
      },
      "execution_count": 122,
      "outputs": [
        {
          "output_type": "execute_result",
          "data": {
            "image/png": "[encoded data removed]",
            "text/plain": [
              "<PIL.Image.Image image mode=RGB size=256x256 at 0x7F7F80D40F10>"
            ]
          },
          "metadata": {},
          "execution_count": 122
        }
      ]
    },
    {
      "cell_type": "code",
      "source": [
        "#adding two images\n",
        "add = ImageChops.add(x,o)\n",
        "\n",
        "add"
      ],
      "metadata": {
        "colab": {
          "base_uri": "https://localhost:8080/",
          "height": 273
        },
        "id": "RhsldqO6mAJT",
        "outputId": "1e3486a9-18b3-4220-d895-168456972a1f"
      },
      "execution_count": 123,
      "outputs": [
        {
          "output_type": "execute_result",
          "data": {
            "image/png": "[encoded data removed]",
            "text/plain": [
              "<PIL.Image.Image image mode=RGB size=256x256 at 0x7F7F80F63290>"
            ]
          },
          "metadata": {},
          "execution_count": 123
        }
      ]
    },
    {
      "cell_type": "code",
      "source": [
        "#convert colour mode grayscale\n",
        "greyscale = merged.convert('L') \n",
        "\n",
        "greyscale"
      ],
      "metadata": {
        "colab": {
          "base_uri": "https://localhost:8080/",
          "height": 273
        },
        "id": "0NIXg1sMzS78",
        "outputId": "da1ae860-b5c2-4da3-e5a9-da91bcf17610"
      },
      "execution_count": 124,
      "outputs": [
        {
          "output_type": "execute_result",
          "data": {
            "image/png": "[encoded data removed]",
            "text/plain": [
              "<PIL.Image.Image image mode=L size=256x256 at 0x7F7F80E88250>"
            ]
          },
          "metadata": {},
          "execution_count": 124
        }
      ]
    },
    {
      "cell_type": "code",
      "source": [
        "#convert colour mode binary\n",
        "binary_mode = merged.convert('1') \n",
        "\n",
        "binary_mode"
      ],
      "metadata": {
        "colab": {
          "base_uri": "https://localhost:8080/",
          "height": 273
        },
        "id": "V-q_9GzI4vsA",
        "outputId": "21907664-c9e4-4287-a34c-050eeb09de7f"
      },
      "execution_count": 125,
      "outputs": [
        {
          "output_type": "execute_result",
          "data": {
            "image/png": "[encoded data removed]",
            "text/plain": [
              "<PIL.Image.Image image mode=1 size=256x256 at 0x7F7F80E76310>"
            ]
          },
          "metadata": {},
          "execution_count": 125
        }
      ]
    },
    {
      "cell_type": "markdown",
      "source": [
        "# As this Binary image is disgusting we can tackle this manually so we need to access each pixel and adjust it accordingly"
      ],
      "metadata": {
        "id": "SsHeao7P5_kb"
      }
    },
    {
      "cell_type": "code",
      "source": [
        "#mapping the pixels of the image so we can use them as coordinates\n",
        "pixel = merged.load()\n",
        "\n",
        "#a nested loop to parse through all the pixels in the image\n",
        "for row in range(merged.size[0]):\n",
        "  for column in range(merged.size[1]):\n",
        "    if pixel[row, column] != (255,255,255):  # this tuple shows White in RGB\n",
        "      pixel[row, column] = (0,0,0) #Black in RGB\n",
        "\n",
        "merged"
      ],
      "metadata": {
        "colab": {
          "base_uri": "https://localhost:8080/",
          "height": 273
        },
        "id": "J0sJnY7E1F4D",
        "outputId": "90ef0bac-9187-4eb6-eec3-616a496f0374"
      },
      "execution_count": 126,
      "outputs": [
        {
          "output_type": "execute_result",
          "data": {
            "image/png": "[encoded data removed]",
            "text/plain": [
              "<PIL.Image.Image image mode=RGB size=256x256 at 0x7F7F80D40F10>"
            ]
          },
          "metadata": {},
          "execution_count": 126
        }
      ]
    },
    {
      "cell_type": "code",
      "source": [
        "#result would be same as this:\n",
        "pixel = greyscale.load()\n",
        "\n",
        "for row in range(greyscale.size[0]):\n",
        "  for column in range(greyscale.size[1]):\n",
        "    if pixel[row, column] != (255):  #we have full control like:   #if pixel[row, column] != (255) and row > 128:    #if pixel[row, column] != (255) and row > 128 and column > 128:\n",
        "      pixel[row,column] = (0)\n",
        "\n",
        "greyscale"
      ],
      "metadata": {
        "colab": {
          "base_uri": "https://localhost:8080/",
          "height": 273
        },
        "id": "wHPP_aIE-C92",
        "outputId": "fcf278a8-e20b-407d-f43c-0bd17498e8f6"
      },
      "execution_count": 127,
      "outputs": [
        {
          "output_type": "execute_result",
          "data": {
            "image/png": "[encoded data removed]",
            "text/plain": [
              "<PIL.Image.Image image mode=L size=256x256 at 0x7F7F80E88250>"
            ]
          },
          "metadata": {},
          "execution_count": 127
        }
      ]
    },
    {
      "cell_type": "code",
      "source": [
        "#1.invert image\n",
        "invert = ImageChops.invert(greyscale)\n",
        "\n",
        "invert"
      ],
      "metadata": {
        "colab": {
          "base_uri": "https://localhost:8080/",
          "height": 273
        },
        "id": "Ig5S2pba1NFe",
        "outputId": "13b7a869-4410-4e76-bea7-34e9996c4840"
      },
      "execution_count": 128,
      "outputs": [
        {
          "output_type": "execute_result",
          "data": {
            "image/png": "[encoded data removed]",
            "text/plain": [
              "<PIL.Image.Image image mode=L size=256x256 at 0x7F7F80ED0D50>"
            ]
          },
          "metadata": {},
          "execution_count": 128
        }
      ]
    },
    {
      "cell_type": "code",
      "source": [
        "#2.invert by subtraction\n",
        "bg = Image.new('L', (256, 256), color=(255)) #create a new image with a solid white background\n",
        "subt = ImageChops.subtract(bg, greyscale) #subtract image from background\n",
        "\n",
        "#3. rotate\n",
        "rotate = subt.rotate(45)\n",
        "rotate"
      ],
      "metadata": {
        "colab": {
          "base_uri": "https://localhost:8080/",
          "height": 273
        },
        "id": "sLV4wJfw-tHf",
        "outputId": "9d8bfa97-2789-4903-dedb-10184793b2dc"
      },
      "execution_count": 129,
      "outputs": [
        {
          "output_type": "execute_result",
          "data": {
            "image/png": "[encoded data removed]",
            "text/plain": [
              "<PIL.Image.Image image mode=L size=256x256 at 0x7F7F80EC8390>"
            ]
          },
          "metadata": {},
          "execution_count": 129
        }
      ]
    },
    {
      "cell_type": "code",
      "source": [
        "#gaussian blur\n",
        "blur = greyscale.filter(ImageFilter.GaussianBlur(radius=1))\n",
        "\n",
        "blur"
      ],
      "metadata": {
        "colab": {
          "base_uri": "https://localhost:8080/",
          "height": 273
        },
        "id": "SqMQ1lqC_VhL",
        "outputId": "4a934b12-16ba-4434-d3af-6982f6189f42"
      },
      "execution_count": 130,
      "outputs": [
        {
          "output_type": "execute_result",
          "data": {
            "image/png": "[encoded data removed]",
            "text/plain": [
              "<PIL.Image.Image image mode=L size=256x256 at 0x7F7F80EB8290>"
            ]
          },
          "metadata": {},
          "execution_count": 130
        }
      ]
    },
    {
      "cell_type": "code",
      "source": [
        "#blur edge detection\n",
        "edge = blur.filter(ImageFilter.FIND_EDGES)\n",
        "\n",
        "edge"
      ],
      "metadata": {
        "colab": {
          "base_uri": "https://localhost:8080/",
          "height": 273
        },
        "id": "BnAqQUgW__Dl",
        "outputId": "44f2d2cb-3010-4791-9686-b80cb0006226"
      },
      "execution_count": 132,
      "outputs": [
        {
          "output_type": "execute_result",
          "data": {
            "image/png": "[encoded data removed]",
            "text/plain": [
              "<PIL.Image.Image image mode=L size=256x256 at 0x7F7F80F5EF90>"
            ]
          },
          "metadata": {},
          "execution_count": 132
        }
      ]
    },
    {
      "cell_type": "code",
      "source": [
        "#change edge colours\n",
        "edge = edge.convert('RGB')\n",
        "bg_red = Image.new('RGB', (256,256), color=(255,0,0))\n",
        "\n",
        "filled_edge = ImageChops.darker(bg_red, edge)\n",
        "filled_edge"
      ],
      "metadata": {
        "colab": {
          "base_uri": "https://localhost:8080/",
          "height": 273
        },
        "id": "Z38Aj_CGAGNk",
        "outputId": "a92de747-6172-4924-dd23-de8aa9481cef"
      },
      "execution_count": 133,
      "outputs": [
        {
          "output_type": "execute_result",
          "data": {
            "image/png": "[encoded data removed]",
            "text/plain": [
              "<PIL.Image.Image image mode=RGB size=256x256 at 0x7F7F80EC8310>"
            ]
          },
          "metadata": {},
          "execution_count": 133
        }
      ]
    },
    {
      "cell_type": "code",
      "source": [
        "#save image in the directory\n",
        "edge.save('/content/drive/MyDrive/GoogleColabFiles/processed.png')"
      ],
      "metadata": {
        "id": "sRy4rkFEAezj"
      },
      "execution_count": 134,
      "outputs": []
    }
  ]
}